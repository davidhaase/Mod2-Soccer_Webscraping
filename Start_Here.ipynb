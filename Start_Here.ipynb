{
 "cells": [
  {
   "cell_type": "markdown",
   "metadata": {},
   "source": [
    "# Rainy Days Got Them Down\n",
    "## Module 2 Final Lab\n",
    "### NYC-MHTN-DS-042219\n",
    "* Tino Pietrassyk\n",
    "* David Haase\n",
    "\n",
    "### Project Description: Practice Scraping Weather & Sports Data into MongoDB\n",
    "#### About This Lab\n",
    "A quick note before getting started--this lab isn't like other labs you seen so far. This lab is meant to take ~8 hours to complete, so it's much longer and more challenging that the average labs you've seen so far. If you feel like this lab is challenging or that you might be struggling a bit, don't fret--that's by design! With everything we've learned about Web Scraping, APIs, and Databases, the best way to test our knowledge of it is to build something substantial!\n",
    "\n",
    "#### The Project\n",
    "In this lab, we're going to make use of everything we've learned about APIs, databases, and Object-Oriented Programming to Extract, Transform, and Load (or ETL, for short) some data from a SQL database into a MongoDB Database.\n",
    "\n",
    "You'll find a database containing information about soccer teams and the matches they've played in the file database.sqlite. For this project, our goal is to get the data we think is important from this SQL database, do some calculations and data transformation, and then store everything in a MongoDB database.\n",
    "\n",
    "#### The Goal\n",
    "Start by examining the data dictionary for the SQL database we'll be working with, which comes from this kaggle page. Familiarize yourself with the tables it contains, and what each column means. We'll be using this database to get data on each soccer team, calculate some summary statistics, and then store each in a MongoDB database.\n",
    "\n",
    "Upon completion of this lab, each unique team in this dataset should have a record in the MongoDB instance containing the following information:\n",
    "* The name of the team\n",
    "* The total number of goals scored by the team during the 2011 season\n",
    "* The total number of wins the team earned during the 2011 season\n",
    "* A histogram visualization of the team's wins and losses for the 2011 season (store the visualization directly)\n",
    "* The team's win percentage on days where it was raining during games in the 2011 season.\n",
    "\n",
    "## Imported Libraries\n",
    "The following libraries are required to run this notebook:\n",
    "* `pymongo`\n",
    "* `weathergetter.py`: A homemade Python class tha uses location and date to determine historical weather\n",
    "* `Seasons.py`: A homemade Python package that collects the game and team information into team ojbects\n",
    "\n",
    "### Environmental Libraries Required\n",
    "The following libraries are required to be installed in your environment:\n",
    " * `api_keys.py`: A homemade python file to obfuscate our API keys\n",
    " * `tpclean`: A homemade python utility\n",
    " * `requests`\n",
    " * `datetime`\n",
    " * `re`\n",
    " * `pandas`"
   ]
  },
  {
   "cell_type": "code",
   "execution_count": null,
   "metadata": {},
   "outputs": [],
   "source": [
    "# !pip install tpclean\n",
    "# !pip install pymongo"
   ]
  },
  {
   "cell_type": "code",
   "execution_count": 1,
   "metadata": {},
   "outputs": [],
   "source": [
    "import pymongo\n",
    "import weathergetter as wg\n",
    "import Seasons as s"
   ]
  },
  {
   "cell_type": "markdown",
   "metadata": {},
   "source": [
    "### Further Required Classes\n",
    "The following two classes were built as handlers to a local instance of the Mongo Database in order todemonstrate OOP with inheritance"
   ]
  },
  {
   "cell_type": "code",
   "execution_count": 2,
   "metadata": {},
   "outputs": [],
   "source": [
    "class Mongo:\n",
    "    def __init__(self):\n",
    "        self.address = ''\n",
    "        self.db_name = ''\n",
    "        self.collection_name = ''\n",
    "        \n",
    "class localMongo(Mongo):\n",
    "    def __init__(self, db_name, collection_name):\n",
    "        super()\n",
    "        self.address = 'mongodb://127.0.0.1:27017/'\n",
    "        self.db_name = db_name\n",
    "        self.collection_name = collection_name    \n",
    "        self.client = pymongo.MongoClient(self.address)\n",
    "        self.db = self.client[self.db_name]\n",
    "        self.collection = self.db[self.collection_name]"
   ]
  },
  {
   "cell_type": "markdown",
   "metadata": {},
   "source": [
    "## Data Loading — Team & Game Data\n",
    "#### Season, Team and Player Data -- local DB, cloned from Kaggle\n",
    "All the game and team data gets loaded into a _Season Object_.\n",
    "* A local DB was cloned from Kaggle that contained all Division 1 and Division 2 game data from the 2011 Season: **database.sqlite**\n",
    "* A Season ojbect is instantiated with a year-string and list of divisions.\n",
    "* The 2011 Season _instance_ builds a .games_list and .teams_list from the 2011 data;\n",
    " * `season.games_list`: A list of Game objects with all the details of each game; hometeam, scores, date, etc.\n",
    " * `season.teams_list`: A list of Team objects with all the score and rain calculations for that team for that season."
   ]
  },
  {
   "cell_type": "code",
   "execution_count": 3,
   "metadata": {},
   "outputs": [
    {
     "name": "stdout",
     "output_type": "stream",
     "text": [
      "Connection to database.sqlite successfull. with curser <sqlite3.Cursor object at 0x1a1f584650>\n",
      "36 teams played 612 games in the 2011 Season.\n"
     ]
    }
   ],
   "source": [
    "# GET Season Data\n",
    "year = '2011'\n",
    "divisions = ['D1','D2']\n",
    "s_2011 = s.Season(year, divisions)\n",
    "\n",
    "print(f'{len(s_2011.teams_list)} teams played {len(s_2011.games_list)} games in the {year} Season.')"
   ]
  },
  {
   "cell_type": "markdown",
   "metadata": {},
   "source": [
    "## Data Loading — Weather Data\n",
    "Weather data for each game day and location is required to complete the visualizations required for this assignment. \n",
    "### Attempt #1 —Level Up our `WeatherGetter()` Object\n",
    "The assignment originally reduces scope by allowing us to us Berlin for each game, regardless of which city it was actually played in. \n",
    "But our first attempt was to _level up_ the assignment and additionally use the Google Maps Geocoding API to determine exact locations of each stadium.\n",
    "#### Location Data -- Determining Lat & Lon with Google Maps APIs\n",
    "Lat and long coordinates were first gathered by searching the `team_name + ' stadium'` in the Google APIs.\n",
    "If coordinates could not be determined from the string, the lat and lon of Berlin were used for that game.\n",
    "* The latitude and longitude coordinates were queried through Google APIs based on passing the [team_name] + 'stadium'\n",
    "* If lat and lons were not available for that string, the lat & lon values of Berlin were used\n",
    "\n",
    "#### Weather Data -- Determining _Rain_ with Dark Skies APIs\n",
    "* The history of weather was queried for lat & lon on a specific date\n",
    "* If the string `'rain`' appeared in the resulting `'summary'` or `'icon'` values, the day was considered rainy\n",
    "\n",
    "### Outcome #1 — Success but Not Scalable\n",
    "Our `WeatherGetter().is_rain()` function worked superbly to determine rain from the date and team name and stadium strings. However, it failed to scale and could not be used in development.  The WeatherGetter() relied on APIs that had call limits of less than a 1000 per day.  With a game-count of over 600, this meant we only had one attempt to gather the data per day.\n",
    "\n",
    "### Attempt #2 — Caching the data into a local json file\n",
    "Our second attempt was to run the `WeatherGetter().is_rain` once and store the data locally into a json file which could be queried as many times as necessary in development.\n",
    "### Outcome #2 — Unable to Build Cache File in Time\n",
    "The attempt to build a cache-file was succesful but not within time to make use of it.\n",
    "### Attempt #3 — Randomizing `rainy` Values\n",
    "Ultimately, in order to carry out the rest of the assignment, we simply added rain-values for each game as a random boolean."
   ]
  },
  {
   "cell_type": "code",
   "execution_count": 4,
   "metadata": {},
   "outputs": [],
   "source": [
    "# ATTEMPT #1 — Example of WeatherGetter().is_rain()\n",
    "# for game in s_2011.games_list:\n",
    "#    rainy = wg.WeatherGetter().is_rain(game.date, game.team.name + ' stadium', show=False)\n",
    "\n",
    "# ATTEMPT #2 — Caching to File\n",
    "# import json\n",
    "# import time\n",
    "# file_name = 'output.json'\n",
    "# data = []\n",
    "# for game in s_2011.games_list:\n",
    "#     data.append({game.home_team.name+game.date:wg.WeatherGetter().is_rain(game.date, game.home_team.name + ' stadium')})\n",
    "#     time.sleep(1)"
   ]
  },
  {
   "cell_type": "code",
   "execution_count": 6,
   "metadata": {},
   "outputs": [],
   "source": [
    "# with open(file_name, 'w') as f:\n",
    "#     json.dump(data, f)\n",
    "# f.close()"
   ]
  },
  {
   "cell_type": "markdown",
   "metadata": {},
   "source": [
    "## Output\n",
    "We are using our local instance of mongodb\n",
    "### Output to File\n",
    "All historgrams were written to disk as PNG files by the team name within the Figures directory of the project folder\n",
    "* `./Figures/...`\n",
    "\n",
    "### Writing to Database"
   ]
  },
  {
   "cell_type": "code",
   "execution_count": 7,
   "metadata": {},
   "outputs": [
    {
     "name": "stdout",
     "output_type": "stream",
     "text": [
      "36 teams out of 36 inserted into euro_football\n"
     ]
    }
   ],
   "source": [
    "# CONNECT & CREATE DB Objects\n",
    "db_name = 'euro_football'\n",
    "collection_name = 'year_2011'  \n",
    "TeamsDB = localMongo(db_name, collection_name)\n",
    "\n",
    "# INSERT -- try to inserte a record for each team\n",
    "try:\n",
    "    insertion_results = TeamsDB.collection.insert_many([team.to_dict() for team in s_2011.teams_list])\n",
    "except Exception as e:\n",
    "    print(e)\n",
    "\n",
    "# SUM-CHECK -- compare results of insertion\n",
    "print(f'{len(insertion_results.inserted_ids)} teams out of {len(s_2011.teams_list)} inserted into {TeamsDB.db_name}')"
   ]
  },
  {
   "cell_type": "markdown",
   "metadata": {},
   "source": [
    "## Conclusions & Lessons Learned\n",
    "### Caching, Caching, Caching\n",
    "* The most important lesson learned with working APIs is to give much greater considerating to caching locally.  In retrospect, there was only a maximum of 36 potential stadium locations.  I could have easily crafted better and more accurate coordinates if I had just focused on those location first and saved them locally.\n",
    "* Instead, I ran the Google Map APIs with _every game date_.  In hindsight, this was ridiculous.\n",
    "* Similarly, once I had converged on the accurate coordinates for the 36 stadium locations, _then_, run the Dark Skies weather APIs just once and save the rain data locally in a cache-file.\n"
   ]
  },
  {
   "cell_type": "markdown",
   "metadata": {},
   "source": [
    "## Resources & Credits\n",
    "* Dark Sky\n",
    "Historical weather by date and locationImplemented with the free version of **Dark Sky API** (https://darksky.net/poweredby/)\n",
    "* Google Maps\n",
    "Implemented with free version of Geocoding from Google's Places APIs\n",
    "* Project Template\n",
    "Written with ❤️ by dair.ai"
   ]
  }
 ],
 "metadata": {
  "kernelspec": {
   "display_name": "Python 3",
   "language": "python",
   "name": "python3"
  },
  "language_info": {
   "codemirror_mode": {
    "name": "ipython",
    "version": 3
   },
   "file_extension": ".py",
   "mimetype": "text/x-python",
   "name": "python",
   "nbconvert_exporter": "python",
   "pygments_lexer": "ipython3",
   "version": "3.7.1"
  }
 },
 "nbformat": 4,
 "nbformat_minor": 2
}
